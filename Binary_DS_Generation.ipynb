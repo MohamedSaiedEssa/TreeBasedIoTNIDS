{
  "nbformat": 4,
  "nbformat_minor": 0,
  "metadata": {
    "colab": {
      "provenance": [],
      "private_outputs": true
    },
    "kernelspec": {
      "name": "python3",
      "display_name": "Python 3"
    },
    "language_info": {
      "name": "python"
    },
    "accelerator": "GPU",
    "gpuClass": "standard"
  },
  "cells": [
    {
      "cell_type": "code",
      "execution_count": null,
      "metadata": {
        "id": "K0LVSMr_QDBh"
      },
      "outputs": [],
      "source": [
        "from google.colab import drive\n",
        "drive.mount('/content/drive')"
      ]
    },
    {
      "cell_type": "code",
      "source": [
        "import numpy as np\n",
        "import matplotlib.pyplot as plt\n",
        "import pandas as pd\n",
        "import seaborn as sns\n",
        "import plotly.express as px\n",
        "from sklearn.model_selection import train_test_split\n",
        "import xgboost as xgb\n",
        "from sklearn.metrics import confusion_matrix\n",
        "import os\n",
        "import glob"
      ],
      "metadata": {
        "id": "eOygTTgwQTyo"
      },
      "execution_count": null,
      "outputs": []
    },
    {
      "cell_type": "code",
      "source": [
        "csv_Benign = glob.glob(os.path.join(r'/content/drive/MyDrive/NBaIotDS/Benign','*.csv'))\n",
        "csv_Gafgyt = glob.glob(os.path.join(r'/content/drive/MyDrive/NBaIotDS/Gafgyt','*.csv'))\n",
        "csv_Mirai = glob.glob(os.path.join(r'/content/drive/MyDrive/NBaIotDS/Mirai','*.csv'))"
      ],
      "metadata": {
        "id": "MonVvTLlQTvK"
      },
      "execution_count": null,
      "outputs": []
    },
    {
      "cell_type": "code",
      "source": [
        "df_Benign = pd.DataFrame()\n",
        "for f in csv_Benign:\n",
        "  df_Benign_Temp = pd.read_csv(f)\n",
        "  df_Benign = df_Benign.append(df_Benign_Temp, ignore_index=True)\n",
        "df_Benign['label'] = np.zeros((df_Benign.shape[0],1), dtype = int)\n",
        "allBenign = df_Benign\n",
        "allBenign.to_csv('allBenign.csv')"
      ],
      "metadata": {
        "id": "xOSOmU7HQTsy"
      },
      "execution_count": null,
      "outputs": []
    },
    {
      "cell_type": "code",
      "source": [
        "allBenign = pd.read_csv(r'/content/drive/MyDrive/NBaIotDS/BinaryDS/allBenign.csv')"
      ],
      "metadata": {
        "id": "wvn9_pbSF44i"
      },
      "execution_count": null,
      "outputs": []
    },
    {
      "cell_type": "code",
      "source": [
        "allBenign"
      ],
      "metadata": {
        "id": "qhy4Xk00GORy"
      },
      "execution_count": null,
      "outputs": []
    },
    {
      "cell_type": "code",
      "source": [
        "df_Gafgyt = pd.DataFrame()\n",
        "for f in csv_Gafgyt:\n",
        "  df_Gafgyt_Temp = pd.read_csv(f)\n",
        "  df_Gafgyt = df_Gafgyt.append(df_Gafgyt_Temp, ignore_index=True)\n",
        "df_Gafgyt['label'] = np.ones((df_Gafgyt.shape[0],1), dtype = int)\n",
        "allGafgyt = df_Gafgyt.sample(277966)\n",
        "allGafgyt.to_csv('allGafgyt.csv')"
      ],
      "metadata": {
        "id": "bZCU_6N7QTnr"
      },
      "execution_count": null,
      "outputs": []
    },
    {
      "cell_type": "code",
      "source": [
        "df_Mirai = pd.DataFrame()\n",
        "for f in csv_Mirai:\n",
        "  df_Mirai_Temp = pd.read_csv(f)\n",
        "  df_Mirai = df_Mirai.append(df_Mirai_Temp, ignore_index=True)\n",
        "df_Mirai['label'] = np.ones((df_Mirai.shape[0],1), dtype = int)\n",
        "allMirai = df_Mirai.sample(277966)\n",
        "allMirai.to_csv('allMirai.csv')"
      ],
      "metadata": {
        "id": "KydN7D7SVJcx"
      },
      "execution_count": null,
      "outputs": []
    },
    {
      "cell_type": "code",
      "source": [
        "allBenign = pd.read_csv(r'/content/drive/MyDrive/NBaIotDS/BinaryDS/allBenign.csv')\n",
        "allMirai = pd.read_csv(r'/content/drive/MyDrive/NBaIotDS/BinaryDS/allMirai.csv')\n",
        "allGafgyt = pd.read_csv(r'/content/drive/MyDrive/NBaIotDS/BinaryDS/allGafgyt.csv')"
      ],
      "metadata": {
        "id": "zBBYqKgDGs0B"
      },
      "execution_count": null,
      "outputs": []
    },
    {
      "cell_type": "code",
      "source": [
        "BinaryDataset = pd.concat([allMirai, allGafgyt, allBenign]) "
      ],
      "metadata": {
        "id": "OHoG0KAkDiQK"
      },
      "execution_count": null,
      "outputs": []
    },
    {
      "cell_type": "code",
      "source": [
        "BinaryDataset"
      ],
      "metadata": {
        "id": "b52aXUDlHIDk"
      },
      "execution_count": null,
      "outputs": []
    },
    {
      "cell_type": "code",
      "source": [
        "from sklearn.utils import shuffle\n",
        "BinaryDataset_Shuffled = shuffle(BinaryDataset)"
      ],
      "metadata": {
        "id": "l-GzYGHPoAm2"
      },
      "execution_count": null,
      "outputs": []
    },
    {
      "cell_type": "code",
      "source": [
        "BinaryDataset_Shuffled"
      ],
      "metadata": {
        "id": "GEn9h-sDBkXM"
      },
      "execution_count": null,
      "outputs": []
    },
    {
      "cell_type": "code",
      "source": [
        "BinaryDataset.to_csv('BinaryDataset.csv', index=False)"
      ],
      "metadata": {
        "id": "ZW0I7e4JrWUe"
      },
      "execution_count": null,
      "outputs": []
    },
    {
      "cell_type": "code",
      "source": [
        "BinaryDataset = pd.read_csv(r'/content/drive/MyDrive/NBaIotDS/BinaryDS/BinaryDataset.csv', index_col=0)"
      ],
      "metadata": {
        "id": "dRHKWY_c3WNB"
      },
      "execution_count": null,
      "outputs": []
    },
    {
      "cell_type": "code",
      "source": [
        "BinaryDataset"
      ],
      "metadata": {
        "id": "nd-V1mudwPoX"
      },
      "execution_count": null,
      "outputs": []
    },
    {
      "cell_type": "code",
      "source": [
        "BinaryDataset['label']"
      ],
      "metadata": {
        "id": "NO2RjRIOtp82"
      },
      "execution_count": null,
      "outputs": []
    }
  ]
}